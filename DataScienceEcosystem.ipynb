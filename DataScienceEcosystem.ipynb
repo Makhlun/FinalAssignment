{
 "cells": [
  {
   "cell_type": "markdown",
   "id": "32d8f7cf",
   "metadata": {},
   "source": [
    "## Data Science Tools and Ecosystem"
   ]
  },
  {
   "cell_type": "markdown",
   "id": "9aa6c85e",
   "metadata": {},
   "source": [
    "In this notebook, Data Science Tools and Ecosystem are summarized. "
   ]
  },
  {
   "cell_type": "markdown",
   "id": "4b3b6a55",
   "metadata": {},
   "source": [
    "__Objectives:__\n",
    "- list of popular languages for Data Science\n",
    "- list of common libraries in Pyton for Data Science\n",
    "- Data Science tools table\n",
    "- arithmetic expressions"
   ]
  },
  {
   "cell_type": "markdown",
   "id": "68f92d2a",
   "metadata": {},
   "source": [
    "Some of the popular languages that Data Scientists use are:\n",
    "1. R\n",
    "2. Python\n",
    "3. C++\n",
    "4. JavaScript\n",
    "5. Julia"
   ]
  },
  {
   "cell_type": "markdown",
   "id": "861b9a06",
   "metadata": {},
   "source": [
    "Some of the commonly used libraries used by Data Scientists include:\n",
    "* Pandas\n",
    "* NumPy\n",
    "* SciPy\n",
    "* Matplotlib"
   ]
  },
  {
   "cell_type": "markdown",
   "id": "ac09ebdd",
   "metadata": {},
   "source": [
    "|_Data Science Tools_|\n",
    "|------------------|\n",
    "| RStudio          |\n",
    "| TensorFlow       |\n",
    "| Apache Spark     |"
   ]
  },
  {
   "cell_type": "markdown",
   "id": "b13bfb44",
   "metadata": {},
   "source": [
    "### Below are a few examples of evaluating arithmetic expressions in Python"
   ]
  },
  {
   "cell_type": "code",
   "execution_count": 2,
   "id": "33d018ed",
   "metadata": {},
   "outputs": [
    {
     "data": {
      "text/plain": [
       "17"
      ]
     },
     "execution_count": 2,
     "metadata": {},
     "output_type": "execute_result"
    }
   ],
   "source": [
    "#This a simple arithmetic expression to mutiply then add integers\n",
    "(3*4)+5"
   ]
  },
  {
   "cell_type": "code",
   "execution_count": 4,
   "id": "dce3a9e8",
   "metadata": {},
   "outputs": [
    {
     "name": "stdout",
     "output_type": "stream",
     "text": [
      "3.33\n"
     ]
    }
   ],
   "source": [
    "#This will convert 200 minutes to hours by diving by 60\n",
    "minutes = 200\n",
    "hour_in_minutes = 60\n",
    "hours = minutes / hour_in_minutes\n",
    "print(round(hours,2))"
   ]
  },
  {
   "cell_type": "markdown",
   "id": "ec67e291",
   "metadata": {},
   "source": [
    "## Author\n",
    "Mariia"
   ]
  }
 ],
 "metadata": {
  "kernelspec": {
   "display_name": "Python 3 (ipykernel)",
   "language": "python",
   "name": "python3"
  },
  "language_info": {
   "codemirror_mode": {
    "name": "ipython",
    "version": 3
   },
   "file_extension": ".py",
   "mimetype": "text/x-python",
   "name": "python",
   "nbconvert_exporter": "python",
   "pygments_lexer": "ipython3",
   "version": "3.10.9"
  }
 },
 "nbformat": 4,
 "nbformat_minor": 5
}
